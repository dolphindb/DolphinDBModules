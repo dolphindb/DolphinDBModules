{
 "cells": [
  {
   "cell_type": "code",
   "execution_count": 1,
   "metadata": {},
   "outputs": [
    {
     "name": "stderr",
     "output_type": "stream",
     "text": [
      "d:\\anaconda\\envs\\ddb\\lib\\site-packages\\numpy\\_distributor_init.py:30: UserWarning: loaded more than 1 DLL from .libs:\n",
      "d:\\anaconda\\envs\\ddb\\lib\\site-packages\\numpy\\.libs\\libopenblas.EL2C6PLE4ZYW3ECEVIV3OXXGRN2NRFM2.gfortran-win_amd64.dll\n",
      "d:\\anaconda\\envs\\ddb\\lib\\site-packages\\numpy\\.libs\\libopenblas.FB5AE2TYXYH2IJRDKGDGQ3XBKLKTF43H.gfortran-win_amd64.dll\n",
      "  warnings.warn(\"loaded more than 1 DLL from .libs:\"\n"
     ]
    }
   ],
   "source": [
    "import pandas as pd\n",
    "import time\n",
    "import dolphindb as ddb\n",
    "import talib\n",
    "import numpy as np"
   ]
  },
  {
   "cell_type": "code",
   "execution_count": 2,
   "metadata": {},
   "outputs": [
    {
     "data": {
      "text/plain": [
       "'0.4.24'"
      ]
     },
     "execution_count": 2,
     "metadata": {},
     "output_type": "execute_result"
    }
   ],
   "source": [
    "talib.__version__"
   ]
  },
  {
   "cell_type": "code",
   "execution_count": 3,
   "metadata": {},
   "outputs": [],
   "source": [
    "pythonTestParam = {\n",
    "    'VAR': 'talib.VAR(np.array(x.close), 5, 1)',\n",
    "    'STDDEV': 'talib.STDDEV(np.array(x.close), 5, 1)',\n",
    "    'BETA': 'talib.BETA(np.array(x.high), np.array(x.low), 5)',\n",
    "    'SMA': 'talib.SMA(np.array(x.close), 30)',\n",
    "    'EMA': 'talib.EMA(np.array(x.close), 30)',\n",
    "    'WMA': 'talib.WMA(np.array(x.close), 30)',\n",
    "    'DEMA': 'talib.DEMA(np.array(x.close), 30)',\n",
    "    'TEMA': 'talib.TEMA(np.array(x.close), 30)',\n",
    "    'TRIMA': 'talib.TRIMA(np.array(x.close), 30)',\n",
    "    'KAMA': 'talib.KAMA(np.array(x.close), 30)',\n",
    "    'T3': 'talib.T3(np.array(x.close), 5, 1)', \n",
    "    'MA': 'talib.MA(np.array(x.close), 30, 0)',\n",
    "    'BBANDS': 'talib.BBANDS(np.array(x.close), 5, 2, 2, 0)',\n",
    "    'RSI': 'talib.RSI(np.array(x.close), 14)',\n",
    "    'STOCHF': 'talib.STOCHF(np.array(x.high), np.array(x.low), np.array(x.close), 5, 3, 0)',\n",
    "    'STOCH': 'talib.STOCH(np.array(x.high), np.array(x.low), np.array(x.close), 5, 3, 0, 3, 0)',\n",
    "    'STOCHRSI': 'talib.STOCHRSI(np.array(x.close), 14, 5, 3, 0)',\n",
    "    'TRIX': 'talib.TRIX(np.array(x.close), 30)',\n",
    "    'CORREL': 'talib.CORREL(np.array(x.high), np.array(x.low), 30)',\n",
    "    'LINEARREG_SLOPE': 'talib.LINEARREG_SLOPE(np.array(x.close), 14)',\n",
    "    'LINEARREG_INTERCEPT': 'talib.LINEARREG_INTERCEPT(np.array(x.close), 14)',\n",
    "    'LINEARREG_ANGLE': 'talib.LINEARREG_ANGLE(np.array(x.close), 14)',\n",
    "    'LINEARREG': 'talib.LINEARREG(np.array(x.close), 14)',\n",
    "    'TSF': 'talib.TSF(np.array(x.close), 14)',\n",
    "    'BOP': 'talib.BOP(np.array(x.open), np.array(x.high), np.array(x.low), np.array(x.close))',\n",
    "    'CCI': 'talib.CCI(np.array(x.high), np.array(x.low), np.array(x.close), 14)',\n",
    "    'TRANGE': 'talib.TRANGE(np.array(x.high), np.array(x.low), np.array(x.close))',\n",
    "    'PLUS_DM': 'talib.PLUS_DM(np.array(x.high), np.array(x.low), 14)',\n",
    "    'PLUS_DI': 'talib.PLUS_DI(np.array(x.high), np.array(x.low), np.array(x.close), 14)',\n",
    "    'MINUS_DM': 'talib.MINUS_DM(np.array(x.high), np.array(x.low), 14)',\n",
    "    'MINUS_DI': 'talib.MINUS_DI(np.array(x.high), np.array(x.low), np.array(x.close), 14)',\n",
    "    'DX': 'talib.DX(np.array(x.high), np.array(x.low), np.array(x.close), 14)',\n",
    "    'ADX': 'talib.ADX(np.array(x.high), np.array(x.low), np.array(x.close), 14)',\n",
    "    'ADXR': 'talib.ADXR(np.array(x.high), np.array(x.low), np.array(x.close), 14)',\n",
    "    'CMO': 'talib.CMO(np.array(x.close), 14)',\n",
    "    'MACD': 'talib.MACD(np.array(x.close), 12, 26, 9)',\n",
    "    'MACDEXT': 'talib.MACDEXT(np.array(x.close), 12, 0, 26, 0, 9, 0)',\n",
    "    'MACDFIX': 'talib.MACDFIX(np.array(x.close), 9)',\n",
    "    'MIDPRICE': 'talib.MIDPRICE(np.array(x.high), np.array(x.low), 14)',\n",
    "    'MIDPOINT': 'talib.MIDPOINT(np.array(x.close), 14)',\n",
    "    'MOM': 'talib.MOM(np.array(x.close), 10)',\n",
    "    'ROC': 'talib.ROC(np.array(x.close), 10)',\n",
    "    'ROCP': 'talib.ROCP(np.array(x.close), 10)',\n",
    "    'ROCR': 'talib.ROCR(np.array(x.close), 10)',\n",
    "    'ROCR100': 'talib.ROCR100(np.array(x.close), 10)',\n",
    "    'PPO': 'talib.PPO(np.array(x.close), 12, 26, 0)',\n",
    "    'MAVP': 'talib.MAVP(np.array(x.close), np.array(np.double(x.periods)), 2, 30, 0)', \n",
    "    'APO': 'talib.APO(np.array(x.close), 12, 26, 0)',\n",
    "    'AROON': 'talib.AROON(np.array(x.high), np.array(x.low), 14)',\n",
    "    'AROONOSC': 'talib.AROONOSC(np.array(x.high), np.array(x.low), 14)',\n",
    "    'ULTOSC': 'talib.ULTOSC(np.array(x.high), np.array(x.low), np.array(x.close), 7, 14, 28)',\n",
    "    'WILLR': 'talib.WILLR(np.array(x.high), np.array(x.low), np.array(x.close), 14)',\n",
    "    'AD': 'talib.AD(np.array(x.high), np.array(x.low), np.array(x.close), np.array(x.volume))',\n",
    "    'OBV': 'talib.OBV(np.array(x.close), np.array(x.volume))', \n",
    "    'AVGPRICE': 'talib.AVGPRICE(np.array(x.open), np.array(x.high), np.array(x.low), np.array(x.close))',\n",
    "    'MEDPRICE': 'talib.MEDPRICE(np.array(x.high), np.array(x.low))',\n",
    "    'TYPPRICE': 'talib.TYPPRICE(np.array(x.high), np.array(x.low), np.array(x.close))',\n",
    "    'WCLPRICE': 'talib.WCLPRICE(np.array(x.high), np.array(x.low), np.array(x.close))',\n",
    "    'ATR': 'talib.ATR(np.array(x.high), np.array(x.low), np.array(x.close), 14)',\n",
    "    'NATR': 'talib.NATR(np.array(x.high), np.array(x.low), np.array(x.close), 14)',\n",
    "    'MFI': 'talib.MFI(np.array(x.high), np.array(x.low), np.array(x.close), np.array(x.volume), 14)'\n",
    "}\n",
    "\n",
    "ddbTestParam = {\n",
    "    'VAR': 'select ta::var(close, timePeriod=5, nbdev=1) as `VAR from data context by symbol',\n",
    "    'STDDEV': 'select ta::stddev(close, timePeriod=5, nbdev=1) as `STDDEV from data context by symbol',\n",
    "    'BETA': 'select ta::beta(high, low, timePeriod=5) as `BETA from data context by symbol',\n",
    "    'SMA': 'select ta::sma(close, timePeriod=30) as `SMA from data context by symbol',\n",
    "    'EMA': 'select ta::ema(close, timePeriod=30) as `EMA from data context by symbol',\n",
    "    'WMA': 'select ta::wma(close, timePeriod=30) as `WMA from data context by symbol',\n",
    "    'DEMA': 'select ta::dema(close, timePeriod=30) as `DEMA from data context by symbol',\n",
    "    'TEMA': 'select ta::tema(close, timePeriod=30) as `TEMA from data context by symbol',\n",
    "    'TRIMA': 'select ta::trima(close, timePeriod=30) as `TRIMA from data context by symbol',\n",
    "    'KAMA': 'select ta::kama(close, timePeriod=30) as `KAMA from data context by symbol',\n",
    "    'T3': 'select ta::t3(close, timePeriod=5, vfactor=1) as `T3 from data context by symbol', \n",
    "    'MA': 'select ta::ma(close, timePeriod=30, maType=0) as `MA from data context by symbol',\n",
    "    'BBANDS': 'select ta::bBands(close, timePeriod=5, nbdevUp=2, nbdevDn=2, maType=0) as `BBANDS1`BBANDS2`BBANDS3 from data context by symbol',\n",
    "    'RSI': 'select ta::rsi(close, timePeriod=14) as `RSI from data context by symbol',\n",
    "    'STOCHF': 'select ta::stochf(high, low, close, fastkPeriod=5, fastdPeriod=3, fastdMatype=0) as `STOCHF1`STOCHF2 from data context by symbol',\n",
    "    'STOCH': 'select ta::stoch(high, low, close, fastkPeriod=5, slowkPeriod=3, slowkMatype=0, slowdPeriod=3, slowdMatype=0) as `STOCH1`STOCH2 from data context by symbol',\n",
    "    'STOCHRSI': 'select ta::stochRsi(close, timePeriod=14, fastkPeriod=5, fastdPeriod=3, fastdMatype=0) as `STOCHRSI1`STOCHRSI2 from data context by symbol',\n",
    "    'TRIX': 'select ta::trix(close, timePeriod=30) as `TRIX from data context by symbol',\n",
    "    'CORREL': 'select ta::correl(high, low, timePeriod=30) as `CORREL from data context by symbol',\n",
    "    'LINEARREG_SLOPE': 'select ta::linearreg_slope(close, timePeriod=14) as `LINEARREG_SLOPE from data context by symbol',\n",
    "    'LINEARREG_INTERCEPT': 'select ta::linearreg_intercept(close, timePeriod=14) as `LINEARREG_INTERCEPT from data context by symbol',\n",
    "    'LINEARREG_ANGLE': 'select ta::linearreg_angle(close, timePeriod=14) as `LINEARREG_ANGLE from data context by symbol',\n",
    "    'LINEARREG': 'select ta::linearreg(close, timePeriod=14) as `LINEARREG from data context by symbol',\n",
    "    'TSF': 'select ta::tsf(close, timePeriod=14) as `TSF from data context by symbol',\n",
    "    'BOP': 'select ta::bop(open, high, low, close) as `BOP from data context by symbol',\n",
    "    'CCI': 'select ta::cci(high, low, close, timePeriod=14) as `CCI from data context by symbol',\n",
    "    'TRANGE': 'select ta::trange(high, low, close) as `TRANGE from data context by symbol',\n",
    "    'PLUS_DM': 'select ta::plus_dm(high, low, timePeriod=14) as `PLUS_DM from data context by symbol',\n",
    "    'PLUS_DI': 'select ta::plus_di(high, low, close, timePeriod=14) as `PLUS_DI from data context by symbol',\n",
    "    'MINUS_DM': 'select ta::minus_dm(high, low, timePeriod=14) as `MINUS_DM from data context by symbol',\n",
    "    'MINUS_DI': 'select ta::minus_di(high, low, close, timePeriod=14) as `MINUS_DI from data context by symbol',\n",
    "    'DX': 'select ta::dx(high, low, close, timePeriod=14) as `DX from data context by symbol',\n",
    "    'ADX': 'select ta::adx(high, low, close, timePeriod=14) as `ADX from data context by symbol',\n",
    "    'ADXR': 'select ta::adxr(high, low, close, timePeriod=14) as `ADXR from data context by symbol',\n",
    "    'CMO': 'select ta::cmo(close, timePeriod=14) as `CMO from data context by symbol',\n",
    "    'MACD': 'select ta::macd(close, fastPeriod=12, slowPeriod=26, signalPeriod=9) as `MACD1`MACD2`MACD3 from data context by symbol',\n",
    "    'MACDEXT': 'select ta::macdExt(close, fastPeriod=12, fastMaType=0, slowPeriod=26, slowMaType=0, signalPeriod=9, signalMaType=0) as `MACDEXT1`MACDEXT2`MACDEXT3 from data context by symbol',\n",
    "    'MACDFIX': 'select ta::macdFix(close, signalPeriod=9) as `MACDFIX1`MACDFIX2`MACDFIX3 from data context by symbol',\n",
    "    'MIDPRICE': 'select ta::midPrice(high, low, timePeriod=14) as `MIDPRICE from data context by symbol',\n",
    "    'MIDPOINT': 'select ta::midPoint(close, timePeriod=14) as `MIDPOINT from data context by symbol',\n",
    "    'MOM': 'select ta::mom(close, timePeriod=10) as `MOM from data context by symbol',\n",
    "    'ROC': 'select ta::roc(close, timePeriod=10) as `ROC from data context by symbol',\n",
    "    'ROCP': 'select ta::rocp(close, timePeriod=10) as `ROCP from data context by symbol',\n",
    "    'ROCR': 'select ta::rocr(close, timePeriod=10) as `ROCR from data context by symbol',\n",
    "    'ROCR100': 'select ta::rocr100(close, timePeriod=10) as `ROCR100 from data context by symbol',\n",
    "    'PPO': 'select ta::ppo(close, fastPeriod=12, slowPeriod=26, maType=0) as `PPO from data context by symbol',\n",
    "    'MAVP': 'select ta::mavp(close, periods, minPeriod=2, maxPeriod=30, maType=0) as `MAVP from data context by symbol', \n",
    "    'APO': 'select ta::apo(close, fastPeriod=12, slowPeriod=26, maType=0) as `APO from data context by symbol',\n",
    "    'AROON': 'select ta::aroon(high, low, timePeriod=14) as `AROON1`AROON2 from data context by symbol',\n",
    "    'AROONOSC': 'select ta::aroonOsc(high, low, timePeriod=14) as `AROONOSC from data context by symbol',\n",
    "    'ULTOSC': 'select ta::ultOsc(high, low, close, timePeriod1=7, timePeriod2=14, timePeriod3=28) as `ULTOSC from data context by symbol',\n",
    "    'WILLR': 'select ta::willr(high, low, close, timePeriod=14) as `WILLR from data context by symbol',\n",
    "    'AD': 'select ta::ad(high, low, close, volume) as `AD from data context by symbol',\n",
    "    'OBV': 'select ta::obv(close, volume) as `OBV from data context by symbol', \n",
    "    'AVGPRICE': 'select ta::avgPrice(open, high, low, close) as `AVGPRICE from data context by symbol',\n",
    "    'MEDPRICE': 'select ta::medPrice(high, low) as `MEDPRICE from data context by symbol',\n",
    "    'TYPPRICE': 'select ta::typPrice(high, low, close) as `TYPPRICE from data context by symbol',\n",
    "    'WCLPRICE': 'select ta::wclPrice(high, low, close) as `WCLPRICE from data context by symbol',\n",
    "    'ATR': 'select ta::atr(high, low, close, timePeriod=14) as `ATR from data context by symbol',\n",
    "    'NATR': 'select ta::natr(high, low, close, timePeriod=14) as `NATR from data context by symbol',\n",
    "    'MFI': 'select ta::mfi(high, low, close, volume, timePeriod=14) as `MFI from data context by symbol'\n",
    "}"
   ]
  },
  {
   "cell_type": "markdown",
   "metadata": {},
   "source": [
    "# Python Run Time"
   ]
  },
  {
   "cell_type": "code",
   "execution_count": 4,
   "metadata": {},
   "outputs": [],
   "source": [
    "dataPath = \"./testData.csv\"\n",
    "data = pd.read_csv(dataPath)"
   ]
  },
  {
   "cell_type": "code",
   "execution_count": 5,
   "metadata": {},
   "outputs": [],
   "source": [
    "dataPath = \"./testData.csv\"\n",
    "data = pd.read_csv(dataPath)\n",
    "\n",
    "def functionRunTime(name, param):\n",
    "    t1 = time.time()\n",
    "    # 核心计算逻辑\n",
    "    data.groupby(\"symbol\").apply(lambda x: eval(param))\n",
    "    t2 = time.time()\n",
    "    print(name, str(np.around((t2 - t1) * 1000, 3)) + \"ms\")\n",
    "    return (t2 - t1) * 1000"
   ]
  },
  {
   "cell_type": "code",
   "execution_count": 6,
   "metadata": {},
   "outputs": [
    {
     "name": "stdout",
     "output_type": "stream",
     "text": [
      "VAR 293.781ms\n",
      "STDDEV 254.825ms\n",
      "BETA 389.943ms\n",
      "SMA 286.093ms\n",
      "EMA 262.316ms\n",
      "WMA 266.809ms\n",
      "DEMA 255.764ms\n",
      "TEMA 262.93ms\n",
      "TRIMA 270.848ms\n",
      "KAMA 273.386ms\n",
      "T3 264.828ms\n",
      "MA 244.944ms\n",
      "BBANDS 298.155ms\n",
      "RSI 278.71ms\n",
      "STOCHF 516.161ms\n",
      "STOCH 477.966ms\n",
      "STOCHRSI 263.922ms\n",
      "TRIX 243.353ms\n",
      "CORREL 327.786ms\n",
      "LINEARREG_SLOPE 229.498ms\n",
      "LINEARREG_INTERCEPT 238.909ms\n",
      "LINEARREG_ANGLE 265.532ms\n",
      "LINEARREG 287.999ms\n",
      "TSF 254.866ms\n",
      "BOP 505.477ms\n",
      "CCI 444.548ms\n",
      "TRANGE 454.738ms\n",
      "PLUS_DM 345.106ms\n",
      "PLUS_DI 413.567ms\n",
      "MINUS_DM 331.188ms\n",
      "MINUS_DI 428.477ms\n",
      "DX 417.41ms\n",
      "ADX 419.144ms\n",
      "ADXR 415.671ms\n",
      "CMO 238.43ms\n",
      "MACD 283.941ms\n",
      "MACDEXT 296.844ms\n",
      "MACDFIX 285.413ms\n",
      "MIDPRICE 365.243ms\n",
      "MIDPOINT 256.284ms\n",
      "MOM 274.901ms\n",
      "ROC 249.81ms\n",
      "ROCP 246.964ms\n",
      "ROCR 248.336ms\n",
      "ROCR100 243.96ms\n",
      "PPO 256.342ms\n",
      "MAVP 401.343ms\n",
      "APO 259.521ms\n",
      "AROON 361.729ms\n",
      "AROONOSC 371.395ms\n",
      "ULTOSC 476.879ms\n",
      "WILLR 435.416ms\n",
      "AD 502.412ms\n",
      "OBV 329.814ms\n",
      "AVGPRICE 503.827ms\n",
      "MEDPRICE 334.777ms\n",
      "TYPPRICE 443.048ms\n",
      "WCLPRICE 411.847ms\n",
      "ATR 422.924ms\n",
      "NATR 419.855ms\n",
      "MFI 510.951ms\n"
     ]
    }
   ],
   "source": [
    "PythonRunTime = {'functionName': [], 'runTime': []}\n",
    "for name in pythonTestParam:\n",
    "    PythonRunTime['functionName'].append(name)\n",
    "    PythonRunTime['runTime'].append(functionRunTime(name, pythonTestParam[name]))\n",
    "\n",
    "pd.DataFrame(PythonRunTime).to_csv(\"Python_RunTime.csv\",index=False)"
   ]
  },
  {
   "cell_type": "markdown",
   "metadata": {},
   "source": [
    "# DolphinDB Run Time"
   ]
  },
  {
   "cell_type": "code",
   "execution_count": 7,
   "metadata": {},
   "outputs": [],
   "source": [
    "dataPath = \"./testData.csv\"\n",
    "s = ddb.session()\n",
    "s.connect(\"175.178.100.3\", 8902, \"admin\", \"123456\")\n",
    "s.run(f'''\n",
    "use ta;\n",
    "schema = table(`tradedate`symbol`high`low`open`close`volume`bs`periods as `name, `DATE`SYMBOL`DOUBLE`DOUBLE`DOUBLE`DOUBLE`DOUBLE`BOOL`INT as type);\n",
    "data=loadText(\"{dataPath}\" ,schema=schema);\n",
    "''')"
   ]
  },
  {
   "cell_type": "code",
   "execution_count": 8,
   "metadata": {},
   "outputs": [
    {
     "name": "stdout",
     "output_type": "stream",
     "text": [
      "VAR 17.726ms\n",
      "STDDEV 21.827ms\n",
      "BETA 42.81ms\n",
      "SMA 16.413ms\n",
      "EMA 14.003ms\n",
      "WMA 17.157ms\n",
      "DEMA 19.602ms\n",
      "TEMA 30.627ms\n",
      "TRIMA 26.097ms\n",
      "KAMA 19.416ms\n",
      "T3 31.042ms\n",
      "MA 19.34ms\n",
      "BBANDS 54.664ms\n",
      "RSI 51.725ms\n",
      "STOCHF 83.726ms\n",
      "STOCH 93.096ms\n",
      "STOCHRSI 133.68ms\n",
      "TRIX 32.887ms\n",
      "CORREL 35.142ms\n",
      "LINEARREG_SLOPE 21.054ms\n",
      "LINEARREG_INTERCEPT 21.654ms\n",
      "LINEARREG_ANGLE 32.476ms\n",
      "LINEARREG 56.483ms\n",
      "TSF 55.512ms\n",
      "BOP 40.977ms\n",
      "CCI 75.755ms\n",
      "TRANGE 25.523ms\n",
      "PLUS_DM 54.318ms\n",
      "PLUS_DI 117.231ms\n",
      "MINUS_DM 58.7ms\n",
      "MINUS_DI 78.565ms\n",
      "DX 118.781ms\n",
      "ADX 110.201ms\n",
      "ADXR 118.002ms\n",
      "CMO 53.137ms\n",
      "MACD 59.082ms\n",
      "MACDEXT 72.845ms\n",
      "MACDFIX 56.453ms\n",
      "MIDPRICE 48.008ms\n",
      "MIDPOINT 44.445ms\n",
      "MOM 17.061ms\n",
      "ROC 23.305ms\n",
      "ROCP 21.697ms\n",
      "ROCR 17.527ms\n",
      "ROCR100 20.645ms\n",
      "PPO 39.862ms\n",
      "MAVP 127.64ms\n",
      "APO 33.136ms\n",
      "AROON 62.03ms\n",
      "AROONOSC 59.38ms\n",
      "ULTOSC 202.604ms\n",
      "WILLR 65.185ms\n",
      "AD 42.39ms\n",
      "OBV 47.3ms\n",
      "AVGPRICE 45.641ms\n",
      "MEDPRICE 20.049ms\n",
      "TYPPRICE 27.063ms\n",
      "WCLPRICE 28.262ms\n",
      "ATR 31.043ms\n",
      "NATR 37.555ms\n",
      "MFI 103.948ms\n"
     ]
    }
   ],
   "source": [
    "DolphinDBRunTime = {'functionName': [], 'runTime': []}\n",
    "for name in ddbTestParam:\n",
    "    ddbRunTime = s.run(f\"\"\"\n",
    "                        t1 = now(true)\n",
    "                        {name}_result = {ddbTestParam[name]}\n",
    "                        t2 = now(true)\n",
    "                        round((t2 - t1) \\ 1000000, 3)\n",
    "                        \"\"\")\n",
    "    print(name, str(ddbRunTime) + 'ms')\n",
    "    DolphinDBRunTime['functionName'].append(name)\n",
    "    DolphinDBRunTime['runTime'].append(ddbRunTime)\n",
    "pd.DataFrame(DolphinDBRunTime).to_csv(\"DolphinDBRunTime_RunTime.csv\",index=False)"
   ]
  },
  {
   "cell_type": "markdown",
   "metadata": {},
   "source": [
    "# Time Ratios of Python and DolphinDB"
   ]
  },
  {
   "cell_type": "code",
   "execution_count": 9,
   "metadata": {},
   "outputs": [
    {
     "data": {
      "text/plain": [
       "dict_items([('VAR', 16.5734538022678), ('STDDEV', 11.674744049420406), ('BETA', 9.108681290039975), ('SMA', 17.430863229069086), ('EMA', 18.7328421438727), ('WMA', 15.551000164752589), ('DEMA', 13.047840483102759), ('TEMA', 8.584898225854861), ('TRIMA', 10.378512312234276), ('KAMA', 14.080436916374895), ('T3', 8.53129448898981), ('MA', 12.665154892015112), ('BBANDS', 5.454326572694559), ('RSI', 5.3882967624876335), ('STOCHF', 6.164882652531118), ('STOCH', 5.134120372251986), ('STOCHRSI', 1.9742852552860244), ('TRIX', 7.399668258419693), ('CORREL', 9.327477297794566), ('LINEARREG_SLOPE', 10.90045349883526), ('LINEARREG_INTERCEPT', 11.033008575791785), ('LINEARREG_ANGLE', 8.176261090427685), ('LINEARREG', 5.098864315585345), ('TSF', 4.591189710323225), ('BOP', 12.335620303598166), ('CCI', 5.868228541987225), ('TRANGE', 17.816779503547505), ('PLUS_DM', 6.353435076021772), ('PLUS_DI', 3.5277940798427707), ('MINUS_DM', 5.642047732611531), ('MINUS_DI', 5.453787442949434), ('DX', 3.514117356208014), ('ADX', 3.803449289719618), ('ADXR', 3.5225727811057443), ('CMO', 4.487076514947781), ('MACD', 4.805872408942844), ('MACDEXT', 4.075002110612377), ('MACDFIX', 5.055759452838879), ('MIDPRICE', 7.607955333491679), ('MIDPOINT', 5.7663125226864835), ('MOM', 16.112811372132132), ('ROC', 10.719137676691606), ('ROCP', 11.382380097550929), ('ROCR', 14.168758961480634), ('ROCR100', 11.816911704316789), ('PPO', 6.430728407644435), ('MAVP', 3.1443383394084132), ('APO', 7.831988445173306), ('AROON', 5.831519346284844), ('AROONOSC', 6.254540825982253), ('ULTOSC', 2.3537497772652407), ('WILLR', 6.679703306546466), ('AD', 11.8521312183579), ('OBV', 6.972810934764387), ('AVGPRICE', 11.038909239787893), ('MEDPRICE', 16.69794587139073), ('TYPPRICE', 16.370995039510493), ('WCLPRICE', 14.572460411308795), ('ATR', 13.623805796136578), ('NATR', 11.179733174790906), ('MFI', 4.915446220771096)])"
      ]
     },
     "execution_count": 9,
     "metadata": {},
     "output_type": "execute_result"
    }
   ],
   "source": [
    "gap = {}\n",
    "for index, name in enumerate(pythonTestParam):\n",
    "    gap[name] = PythonRunTime['runTime'][index] / DolphinDBRunTime['runTime'][index]\n",
    "gap.items()\n"
   ]
  },
  {
   "cell_type": "code",
   "execution_count": 10,
   "metadata": {},
   "outputs": [
    {
     "data": {
      "text/plain": [
       "('EMA', 18.7328421438727)"
      ]
     },
     "execution_count": 10,
     "metadata": {},
     "output_type": "execute_result"
    }
   ],
   "source": [
    "max(gap.items(), key=lambda x: x[1])"
   ]
  },
  {
   "cell_type": "code",
   "execution_count": 11,
   "metadata": {},
   "outputs": [
    {
     "data": {
      "text/plain": [
       "('STOCHRSI', 1.9742852552860244)"
      ]
     },
     "execution_count": 11,
     "metadata": {},
     "output_type": "execute_result"
    }
   ],
   "source": [
    "min(gap.items(), key=lambda x: x[1])"
   ]
  },
  {
   "cell_type": "code",
   "execution_count": 12,
   "metadata": {},
   "outputs": [
    {
     "data": {
      "text/plain": [
       "8.960478245554604"
      ]
     },
     "execution_count": 12,
     "metadata": {},
     "output_type": "execute_result"
    }
   ],
   "source": [
    "np.mean(list(gap.values()))"
   ]
  }
 ],
 "metadata": {
  "kernelspec": {
   "display_name": "Python 3.8.10 ('ddb')",
   "language": "python",
   "name": "python3"
  },
  "language_info": {
   "codemirror_mode": {
    "name": "ipython",
    "version": 3
   },
   "file_extension": ".py",
   "mimetype": "text/x-python",
   "name": "python",
   "nbconvert_exporter": "python",
   "pygments_lexer": "ipython3",
   "version": "3.8.10"
  },
  "orig_nbformat": 4,
  "vscode": {
   "interpreter": {
    "hash": "a718c32db4d0bd0dc8b0317ed8dd428989d234c40b691fd745fe952a9f284df7"
   }
  }
 },
 "nbformat": 4,
 "nbformat_minor": 2
}
